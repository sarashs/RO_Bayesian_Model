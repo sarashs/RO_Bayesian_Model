{
 "cells": [
  {
   "cell_type": "markdown",
   "id": "6715be77",
   "metadata": {},
   "source": [
    "# RO Measurements"
   ]
  },
  {
   "cell_type": "code",
   "execution_count": 61,
   "id": "18e6893b",
   "metadata": {},
   "outputs": [],
   "source": [
    "import pandas as pd\n",
    "from pynq import Overlay\n",
    "import numpy as np\n",
    "from time import sleep\n",
    "import json\n",
    "from datetime import datetime, timedelta\n",
    "from tqdm.notebook import tqdm"
   ]
  },
  {
   "cell_type": "code",
   "execution_count": 67,
   "id": "08ab62e6",
   "metadata": {},
   "outputs": [],
   "source": [
    "class TestChip(Overlay):\n",
    "    \"\"\"TestChip class is the main driver\n",
    "    class for interacting with our FPGA Overlay\n",
    "    \"\"\"\n",
    "\n",
    "    def __init__(self, ol_path, **kwargs):\n",
    "        super().__init__(ol_path)\n",
    "        self.RO_base_address = 0x00000000\n",
    "        self.temp_sensor_address = 0x200\n",
    "        self.vccint_sensor_address = 0x204\n",
    "        self.vccaux_sensor_address = 0x208\n",
    "        self.Vp_Vn_sensor_address = 0x20C\n",
    "        self.vrefP_sensor_address = 0x210\n",
    "        self.vrefN_sensor_address = 0x214\n",
    "        self.vbram_sensor_address = 0x218\n",
    "        self.pssvccint_sensor_address = 0x234\n",
    "        self.pssvccaux_sensor_address = 0x238\n",
    "        self.pssvccmem_sensor_address = 0x23C\n",
    "        self.counter_address_increament = 0x04\n",
    "        self.num_oscillators = 20\n",
    "        ###\n",
    "        self.ROs_0.write(0x00,0) # Turn off the ROS to not degrade them\n",
    "        ###\n",
    "\n",
    "    def XADC_temp(self):\n",
    "        return ((self.xadc_wiz_0.read(self.temp_sensor_address\n",
    "                                       ) >> 4) * 503.975/4096 - 273.15)\n",
    "\n",
    "    def XADC_voltage(self, voltage_name='vccint'):\n",
    "        if voltage_name == 'vccaux':\n",
    "            measurement_out = self.xadc_wiz_0.read(self.vccaux_sensor_address)\n",
    "        elif voltage_name == 'vbram':\n",
    "            measurement_out = self.xadc_wiz_0.read(self.vbram_sensor_address)\n",
    "        elif voltage_name == 'pssvccint':\n",
    "            measurement_out = self.xadc_wiz_0.read(self.pssvccint_sensor_address)\n",
    "        elif voltage_name == 'pssvccaux':\n",
    "            measurement_out = self.xadc_wiz_0.read(self.pssvccaux_sensor_address)\n",
    "        elif voltage_name == 'pssvccmem':\n",
    "            measurement_out = self.xadc_wiz_0.read(self.pssvccmem_sensor_address)\n",
    "        else:\n",
    "            measurement_out = self.xadc_wiz_0.read(self.vccint_sensor_address)\n",
    "        return (measurement_out >> 4) * 3/4096\n",
    "\n",
    "    def record(self, total_samples, every, experiment = 'experiment_1'):\n",
    "        \"\"\"\n",
    "        parameters\n",
    "        ----------\n",
    "        total_samples : total number of samples\n",
    "        every : sampling step size in seconds\n",
    "        \"\"\"\n",
    "        ###\n",
    "        self.ROs_0.write(0x00,1) # This signal turns on the ROs\n",
    "        sleep(0.01)\n",
    "        ###\n",
    "        data_dict = {\n",
    "            **{f'RO_{i}': [] for i in range(20)},\n",
    "            **{'Temperature':[], 'vccint':[], 'vbram':[], 'vccaux':[], 'time':[]}\n",
    "        }\n",
    "        init_time = datetime.now()\n",
    "        now_time = init_time\n",
    "        for s in tqdm(range(total_samples), \"Sampling...\"):\n",
    "            ###\n",
    "            self.ROs_0.write(0x00,2) # This signal pauses the counters so that all of them are measures at the same time\n",
    "            data_dict['Temperature'].append(self.XADC_temp()) # temperature while counting\n",
    "            sleep(0.01) # making sure that the counters stopped counting\n",
    "            ###\n",
    "            now_time = datetime.now()\n",
    "            data_dict['time'].append(now_time)\n",
    "            data_dict['vccint'].append(self.XADC_voltage('vccint'))\n",
    "            data_dict['vbram'].append(self.XADC_voltage('vbram'))\n",
    "            data_dict['vccaux'].append(self.XADC_voltage('vccaux'))\n",
    "            for i in range(self.num_oscillators):\n",
    "                data_dict[f'RO_{i}'].append(\n",
    "                    self.ROs_0.read(\n",
    "                        self.RO_base_address + i * self.counter_address_increament\n",
    "                    )\n",
    "                )\n",
    "            ###\n",
    "            self.ROs_0.write(0x00,1) # Turning off the pause signal\n",
    "            ###\n",
    "            while(datetime.now() < now_time + every):\n",
    "                pass\n",
    "        df = pd.DataFrame(data_dict)\n",
    "        df.to_csv(experiment+'.csv')\n",
    "        return df"
   ]
  },
  {
   "cell_type": "code",
   "execution_count": 87,
   "id": "34e621ae",
   "metadata": {},
   "outputs": [
    {
     "data": {
      "application/vnd.jupyter.widget-view+json": {
       "model_id": "017afc05cd394badb6c77c59eae2f85b",
       "version_major": 2,
       "version_minor": 0
      },
      "text/plain": [
       "Sampling...:   0%|          | 0/2000 [00:00<?, ?it/s]"
      ]
     },
     "metadata": {},
     "output_type": "display_data"
    }
   ],
   "source": [
    "ol = TestChip('ROS.bit')\n",
    "every = timedelta(seconds = 3)\n",
    "df = ol.record(2000, every, \"experiment_2\")"
   ]
  },
  {
   "cell_type": "code",
   "execution_count": 88,
   "id": "5fd9203a",
   "metadata": {},
   "outputs": [
    {
     "data": {
      "text/html": [
       "<div>\n",
       "<style scoped>\n",
       "    .dataframe tbody tr th:only-of-type {\n",
       "        vertical-align: middle;\n",
       "    }\n",
       "\n",
       "    .dataframe tbody tr th {\n",
       "        vertical-align: top;\n",
       "    }\n",
       "\n",
       "    .dataframe thead th {\n",
       "        text-align: right;\n",
       "    }\n",
       "</style>\n",
       "<table border=\"1\" class=\"dataframe\">\n",
       "  <thead>\n",
       "    <tr style=\"text-align: right;\">\n",
       "      <th></th>\n",
       "      <th>RO_0</th>\n",
       "      <th>RO_1</th>\n",
       "      <th>RO_2</th>\n",
       "      <th>RO_3</th>\n",
       "      <th>RO_4</th>\n",
       "      <th>RO_5</th>\n",
       "      <th>RO_6</th>\n",
       "      <th>RO_7</th>\n",
       "      <th>RO_8</th>\n",
       "      <th>RO_9</th>\n",
       "      <th>...</th>\n",
       "      <th>RO_15</th>\n",
       "      <th>RO_16</th>\n",
       "      <th>RO_17</th>\n",
       "      <th>RO_18</th>\n",
       "      <th>RO_19</th>\n",
       "      <th>Temperature</th>\n",
       "      <th>vccint</th>\n",
       "      <th>vbram</th>\n",
       "      <th>vccaux</th>\n",
       "      <th>time</th>\n",
       "    </tr>\n",
       "  </thead>\n",
       "  <tbody>\n",
       "    <tr>\n",
       "      <th>0</th>\n",
       "      <td>2</td>\n",
       "      <td>474273</td>\n",
       "      <td>469586</td>\n",
       "      <td>467296</td>\n",
       "      <td>462360</td>\n",
       "      <td>459790</td>\n",
       "      <td>466916</td>\n",
       "      <td>416924</td>\n",
       "      <td>460401</td>\n",
       "      <td>460736</td>\n",
       "      <td>...</td>\n",
       "      <td>456562</td>\n",
       "      <td>452021</td>\n",
       "      <td>373717</td>\n",
       "      <td>466275</td>\n",
       "      <td>419824</td>\n",
       "      <td>50.201147</td>\n",
       "      <td>1.022461</td>\n",
       "      <td>1.022461</td>\n",
       "      <td>1.803955</td>\n",
       "      <td>2024-06-03 02:54:29.035468</td>\n",
       "    </tr>\n",
       "    <tr>\n",
       "      <th>1</th>\n",
       "      <td>2</td>\n",
       "      <td>474513</td>\n",
       "      <td>469981</td>\n",
       "      <td>467651</td>\n",
       "      <td>462893</td>\n",
       "      <td>460363</td>\n",
       "      <td>467208</td>\n",
       "      <td>417136</td>\n",
       "      <td>460814</td>\n",
       "      <td>461106</td>\n",
       "      <td>...</td>\n",
       "      <td>457035</td>\n",
       "      <td>452236</td>\n",
       "      <td>374144</td>\n",
       "      <td>466663</td>\n",
       "      <td>420196</td>\n",
       "      <td>49.955066</td>\n",
       "      <td>1.022461</td>\n",
       "      <td>1.022461</td>\n",
       "      <td>1.803955</td>\n",
       "      <td>2024-06-03 02:54:32.055837</td>\n",
       "    </tr>\n",
       "    <tr>\n",
       "      <th>2</th>\n",
       "      <td>2</td>\n",
       "      <td>474535</td>\n",
       "      <td>469958</td>\n",
       "      <td>467510</td>\n",
       "      <td>462883</td>\n",
       "      <td>460174</td>\n",
       "      <td>467155</td>\n",
       "      <td>417065</td>\n",
       "      <td>460886</td>\n",
       "      <td>461149</td>\n",
       "      <td>...</td>\n",
       "      <td>457022</td>\n",
       "      <td>452247</td>\n",
       "      <td>374099</td>\n",
       "      <td>466729</td>\n",
       "      <td>420110</td>\n",
       "      <td>50.570270</td>\n",
       "      <td>1.022461</td>\n",
       "      <td>1.022461</td>\n",
       "      <td>1.803955</td>\n",
       "      <td>2024-06-03 02:54:35.075790</td>\n",
       "    </tr>\n",
       "    <tr>\n",
       "      <th>3</th>\n",
       "      <td>2</td>\n",
       "      <td>474546</td>\n",
       "      <td>469874</td>\n",
       "      <td>467637</td>\n",
       "      <td>462844</td>\n",
       "      <td>460095</td>\n",
       "      <td>467242</td>\n",
       "      <td>417173</td>\n",
       "      <td>460844</td>\n",
       "      <td>461022</td>\n",
       "      <td>...</td>\n",
       "      <td>456858</td>\n",
       "      <td>452248</td>\n",
       "      <td>374086</td>\n",
       "      <td>466717</td>\n",
       "      <td>420149</td>\n",
       "      <td>50.693311</td>\n",
       "      <td>1.022461</td>\n",
       "      <td>1.022461</td>\n",
       "      <td>1.803955</td>\n",
       "      <td>2024-06-03 02:54:38.095860</td>\n",
       "    </tr>\n",
       "    <tr>\n",
       "      <th>4</th>\n",
       "      <td>2</td>\n",
       "      <td>474449</td>\n",
       "      <td>469955</td>\n",
       "      <td>467389</td>\n",
       "      <td>462791</td>\n",
       "      <td>460025</td>\n",
       "      <td>467013</td>\n",
       "      <td>416990</td>\n",
       "      <td>460744</td>\n",
       "      <td>460966</td>\n",
       "      <td>...</td>\n",
       "      <td>456931</td>\n",
       "      <td>452281</td>\n",
       "      <td>373937</td>\n",
       "      <td>466496</td>\n",
       "      <td>420008</td>\n",
       "      <td>50.693311</td>\n",
       "      <td>1.022461</td>\n",
       "      <td>1.022461</td>\n",
       "      <td>1.803955</td>\n",
       "      <td>2024-06-03 02:54:41.115772</td>\n",
       "    </tr>\n",
       "  </tbody>\n",
       "</table>\n",
       "<p>5 rows × 25 columns</p>\n",
       "</div>"
      ],
      "text/plain": [
       "   RO_0    RO_1    RO_2    RO_3    RO_4    RO_5    RO_6    RO_7    RO_8  \\\n",
       "0     2  474273  469586  467296  462360  459790  466916  416924  460401   \n",
       "1     2  474513  469981  467651  462893  460363  467208  417136  460814   \n",
       "2     2  474535  469958  467510  462883  460174  467155  417065  460886   \n",
       "3     2  474546  469874  467637  462844  460095  467242  417173  460844   \n",
       "4     2  474449  469955  467389  462791  460025  467013  416990  460744   \n",
       "\n",
       "     RO_9  ...   RO_15   RO_16   RO_17   RO_18   RO_19  Temperature    vccint  \\\n",
       "0  460736  ...  456562  452021  373717  466275  419824    50.201147  1.022461   \n",
       "1  461106  ...  457035  452236  374144  466663  420196    49.955066  1.022461   \n",
       "2  461149  ...  457022  452247  374099  466729  420110    50.570270  1.022461   \n",
       "3  461022  ...  456858  452248  374086  466717  420149    50.693311  1.022461   \n",
       "4  460966  ...  456931  452281  373937  466496  420008    50.693311  1.022461   \n",
       "\n",
       "      vbram    vccaux                       time  \n",
       "0  1.022461  1.803955 2024-06-03 02:54:29.035468  \n",
       "1  1.022461  1.803955 2024-06-03 02:54:32.055837  \n",
       "2  1.022461  1.803955 2024-06-03 02:54:35.075790  \n",
       "3  1.022461  1.803955 2024-06-03 02:54:38.095860  \n",
       "4  1.022461  1.803955 2024-06-03 02:54:41.115772  \n",
       "\n",
       "[5 rows x 25 columns]"
      ]
     },
     "execution_count": 88,
     "metadata": {},
     "output_type": "execute_result"
    }
   ],
   "source": [
    "df.head()"
   ]
  },
  {
   "cell_type": "code",
   "execution_count": 89,
   "id": "babdf1ad",
   "metadata": {},
   "outputs": [
    {
     "data": {
      "text/plain": [
       "<AxesSubplot:>"
      ]
     },
     "execution_count": 89,
     "metadata": {},
     "output_type": "execute_result"
    },
    {
     "data": {
      "image/png": "[encoded data removed]",
      "text/plain": [
       "<Figure size 432x288 with 1 Axes>"
      ]
     },
     "metadata": {
      "needs_background": "light"
     },
     "output_type": "display_data"
    }
   ],
   "source": [
    "df[\"RO_3\"].hist()"
   ]
  },
  {
   "cell_type": "code",
   "execution_count": 90,
   "id": "0627ef52",
   "metadata": {},
   "outputs": [
    {
     "data": {
      "text/plain": [
       "<AxesSubplot:>"
      ]
     },
     "execution_count": 90,
     "metadata": {},
     "output_type": "execute_result"
    },
    {
     "data": {
      "image/png": "[encoded data removed]",
      "text/plain": [
       "<Figure size 432x288 with 1 Axes>"
      ]
     },
     "metadata": {
      "needs_background": "light"
     },
     "output_type": "display_data"
    }
   ],
   "source": [
    "df[\"Temperature\"].plot()"
   ]
  },
  {
   "cell_type": "code",
   "execution_count": 91,
   "id": "94b990e4",
   "metadata": {},
   "outputs": [
    {
     "data": {
      "text/plain": [
       "<AxesSubplot:>"
      ]
     },
     "execution_count": 91,
     "metadata": {},
     "output_type": "execute_result"
    },
    {
     "data": {
      "image/png": "[encoded data removed]",
      "text/plain": [
       "<Figure size 432x288 with 1 Axes>"
      ]
     },
     "metadata": {
      "needs_background": "light"
     },
     "output_type": "display_data"
    }
   ],
   "source": [
    "df[\"RO_3\"].plot()"
   ]
  },
  {
   "cell_type": "code",
   "execution_count": null,
   "id": "fe495fd8",
   "metadata": {},
   "outputs": [],
   "source": []
  }
 ],
 "metadata": {
  "kernelspec": {
   "display_name": "Python 3 (ipykernel)",
   "language": "python",
   "name": "python3"
  },
  "language_info": {
   "codemirror_mode": {
    "name": "ipython",
    "version": 3
   },
   "file_extension": ".py",
   "mimetype": "text/x-python",
   "name": "python",
   "nbconvert_exporter": "python",
   "pygments_lexer": "ipython3",
   "version": "3.10.4"
  }
 },
 "nbformat": 4,
 "nbformat_minor": 5
}
